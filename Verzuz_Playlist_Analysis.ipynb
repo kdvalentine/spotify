{
  "nbformat": 4,
  "nbformat_minor": 0,
  "metadata": {
    "colab": {
      "name": "Verzuz Playlist Analysis.ipynb",
      "provenance": [],
      "collapsed_sections": [],
      "authorship_tag": "ABX9TyMPp9NKGDNSdq51jr51fD0n"
    },
    "kernelspec": {
      "name": "python3",
      "display_name": "Python 3"
    },
    "language_info": {
      "name": "python"
    }
  },
  "cells": [
    {
      "cell_type": "code",
      "metadata": {
        "id": "DcNirCvNzg0m"
      },
      "source": [
        "!pip install spotipy\n",
        "import spotipy\n",
        "import spotipy.util as util\n",
        "from spotipy.oauth2 import SpotifyClientCredentials\n",
        "import pandas as pd\n",
        "import requests\n",
        "import numpy as np\n",
        "from math import pi, ceil\n",
        "import matplotlib.pyplot as plt\n",
        "import seaborn as sns"
      ],
      "execution_count": null,
      "outputs": []
    },
    {
      "cell_type": "code",
      "metadata": {
        "id": "VvoxhASSCcij"
      },
      "source": [
        "cid = '<your client id>'\n",
        "secret = '<your client secret'\n",
        "client_credentials_manager = SpotifyClientCredentials(client_id=cid, client_secret=secret) \n",
        "sp = spotipy.Spotify(client_credentials_manager=client_credentials_manager)\n",
        "scope = 'user-library-read'"
      ],
      "execution_count": null,
      "outputs": []
    },
    {
      "cell_type": "code",
      "metadata": {
        "id": "S5dfFszBzsrK"
      },
      "source": [
        "def get_features_from_playlist(user='', playlist_id=''):\n",
        "    '''\n",
        "    Takes in a user_id and a playlist_id and returns a dataframe of a user's playlist songs\n",
        "    '''\n",
        "    df_result = pd.DataFrame()\n",
        "    track_list = ''\n",
        "    uploader_list = []\n",
        "    added_ts_list = []\n",
        "    artist_list = []\n",
        "    title_list = []\n",
        "\n",
        "    more_songs = True #As long as there is tracks not fetched from API, continue looping\n",
        "    offset_index = 0\n",
        "    \n",
        "    if playlist_id != '' and user == '':\n",
        "        print(\"Enter username for playlist\")\n",
        "        return\n",
        "\n",
        "    while more_songs:\n",
        "        songs = sp.user_playlist_tracks(user, playlist_id=playlist_id, offset=offset_index)\n",
        "\n",
        "        for song in songs['items']:\n",
        "            #join track ids to a single string as an input parameter for audio_features function\n",
        "            track_list += song['track']['id'] +','\n",
        "\n",
        "            #get the time when the song was added\n",
        "            added_ts_list.append(song['added_at'])\n",
        "\n",
        "            #get the title of the song\n",
        "            title_list.append(song['track']['name'])\n",
        "\n",
        "            #get all the artists in the song\n",
        "            artists = song['track']['artists']\n",
        "            artists_name = ''\n",
        "            for artist in artists:\n",
        "                artists_name += artist['name']  + ','\n",
        "            artist_list.append(artists_name[:-1])\n",
        "            \n",
        "            #get user who added song in the playlist, catering for collaboration playlists\n",
        "            uploader_list.append(song['added_by']['id'])\n",
        "\n",
        "        #get the track features and append into a dataframe\n",
        "        track_features = sp.audio_features(track_list[:-1])\n",
        "        df_temp = pd.DataFrame(track_features)\n",
        "        df_result = df_result.append(df_temp)\n",
        "        track_list = ''\n",
        "\n",
        "        if songs['next'] == None:\n",
        "            # no more songs in playlist\n",
        "            more_songs = False\n",
        "        else:\n",
        "            # get the next n songs\n",
        "            offset_index += songs['limit']\n",
        "            print('Progress: ' + str(offset_index) + ' of '+ str(songs['total']))\n",
        "\n",
        "    #add the timestamp added, title and artists of a song\n",
        "    df_result['added_at'], df_result['song_title'], df_result['artists'] = added_ts_list, title_list, artist_list\n",
        "    \n",
        "    #add upload user if in a playlist\n",
        "    df_result['uploaded_by'] = uploader_list\n",
        "        \n",
        "    print('--- COMPLETED ---')\n",
        "    \n",
        "    return df_result"
      ],
      "execution_count": null,
      "outputs": []
    },
    {
      "cell_type": "code",
      "metadata": {
        "id": "wFERMTV5ONMP"
      },
      "source": [
        "#Get playlist data\n",
        "df_playlist = get_features_from_playlist(user='Spotify', playlist_id='37i9dQZF1DX3ZKargsaFiQ')\n",
        "#Artist 1 are the even rows, Artist 2 are the odd rows\n",
        "artist1 = df_playlist.iloc[::2]\n",
        "artist1['battle_artist'] = 'Erykah Badu'\n",
        "\n",
        "artist2 = df_playlist.iloc[1::2]\n",
        "artist2['battle_artist'] = 'Jill Scott'\n",
        "\n",
        "\n",
        "concat_data = [artist1, artist2]\n",
        "data_set = pd.concat(concat_data)\n",
        "print(data_set)"
      ],
      "execution_count": null,
      "outputs": []
    }
  ]
}